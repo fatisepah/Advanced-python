{
 "cells": [
  {
   "cell_type": "markdown",
   "metadata": {},
   "source": [
    "<h1><center>تمارین فصل اول</center></h1>"
   ]
  },
  {
   "cell_type": "markdown",
   "metadata": {},
   "source": [
    "---"
   ]
  },
  {
   "cell_type": "markdown",
   "metadata": {},
   "source": [
    "<h2><center>با در نظر گرفتن رشته زیر، تمام المان ها را استخراج کرده و با جمع کردن المان های    \n",
    "مناسب خروجی خواسته شده را تولید کنید    </center></h2>"
   ]
  },
  {
   "cell_type": "code",
   "execution_count": 2,
   "metadata": {},
   "outputs": [],
   "source": [
    "s = 'faradars'"
   ]
  },
  {
   "cell_type": "code",
   "execution_count": 5,
   "metadata": {},
   "outputs": [
    {
     "data": {
      "text/plain": [
       "('f', 'a', 'r', 'a', 'd', 'a', 'r', 's')"
      ]
     },
     "execution_count": 5,
     "metadata": {},
     "output_type": "execute_result"
    }
   ],
   "source": []
  },
  {
   "cell_type": "code",
   "execution_count": 4,
   "metadata": {},
   "outputs": [
    {
     "data": {
      "text/plain": [
       "'safar'"
      ]
     },
     "execution_count": 4,
     "metadata": {},
     "output_type": "execute_result"
    }
   ],
   "source": []
  },
  {
   "cell_type": "markdown",
   "metadata": {},
   "source": [
    "---"
   ]
  },
  {
   "cell_type": "markdown",
   "metadata": {},
   "source": [
    "<h2><center>برای لیست اعداد زیر، با حذف المان های دوم از ابتدا و انتها، میانگین مربع باقی اعداد را حساب کنید</center></h2>"
   ]
  },
  {
   "cell_type": "code",
   "execution_count": 3,
   "metadata": {},
   "outputs": [],
   "source": [
    "num = [1, 25, 34, 7, 81, 6, -8, 9, 12, 32, 14, 78, -55, 10, 17]"
   ]
  },
  {
   "cell_type": "code",
   "execution_count": 14,
   "metadata": {},
   "outputs": [
    {
     "data": {
      "text/plain": [
       "17.53846153846154"
      ]
     },
     "execution_count": 14,
     "metadata": {},
     "output_type": "execute_result"
    }
   ],
   "source": []
  },
  {
   "cell_type": "markdown",
   "metadata": {},
   "source": [
    "---"
   ]
  },
  {
   "cell_type": "markdown",
   "metadata": {},
   "source": [
    "<h2><center> تولید کنید deque خروجی های زیر را با استفاده از </center></h2>"
   ]
  },
  {
   "cell_type": "code",
   "execution_count": 25,
   "metadata": {},
   "outputs": [
    {
     "data": {
      "text/plain": [
       "deque([0, 2, 8, 16, 40])"
      ]
     },
     "execution_count": 25,
     "metadata": {},
     "output_type": "execute_result"
    }
   ],
   "source": []
  },
  {
   "cell_type": "code",
   "execution_count": 26,
   "metadata": {},
   "outputs": [
    {
     "data": {
      "text/plain": [
       "deque([0, 2, 8, 16, 40, 80])"
      ]
     },
     "execution_count": 26,
     "metadata": {},
     "output_type": "execute_result"
    }
   ],
   "source": []
  },
  {
   "cell_type": "code",
   "execution_count": 27,
   "metadata": {},
   "outputs": [
    {
     "data": {
      "text/plain": [
       "deque([80, 0, 2, 8, 16, 40, 80])"
      ]
     },
     "execution_count": 27,
     "metadata": {},
     "output_type": "execute_result"
    }
   ],
   "source": []
  },
  {
   "cell_type": "code",
   "execution_count": 29,
   "metadata": {},
   "outputs": [
    {
     "data": {
      "text/plain": [
       "deque([0, 2, 8, 16, 40, 80])"
      ]
     },
     "execution_count": 29,
     "metadata": {},
     "output_type": "execute_result"
    }
   ],
   "source": []
  },
  {
   "cell_type": "markdown",
   "metadata": {},
   "source": [
    "---"
   ]
  },
  {
   "cell_type": "markdown",
   "metadata": {},
   "source": [
    "<h2><center> خروجی ها را تولید کنید heapq با استفاده از ماژول </center></h2>"
   ]
  },
  {
   "cell_type": "code",
   "execution_count": 58,
   "metadata": {},
   "outputs": [],
   "source": [
    "d = [\n",
    "    {'name':'RED', 'NOW':5000, 'price':93.8, 'Age': 101},\n",
    "    {'name':'EWS', 'NOW':2000, 'price':100.8, 'Age': 200},\n",
    "    {'name':'TRE', 'NOW':800, 'price':50.7, 'Age': 50},\n",
    "    {'name':'PLE', 'NOW':700, 'price':50.3, 'Age': 46},\n",
    "    {'name':'PTE', 'NOW':400, 'price':30.8, 'Age': 110},\n",
    "    {'name':'SCV', 'NOW':1200, 'price':77.3, 'Age': 9},\n",
    "    {'name':'URT', 'NOW':750, 'price':110.3, 'Age': 8},\n",
    "    {'name':'STQ', 'NOW':3000, 'price':70.4, 'Age': 12}\n",
    "]"
   ]
  },
  {
   "cell_type": "code",
   "execution_count": 61,
   "metadata": {},
   "outputs": [
    {
     "data": {
      "text/plain": [
       "[{'name': 'URT', 'NOW': 750, 'price': 110.3, 'Age': 8},\n",
       " {'name': 'EWS', 'NOW': 2000, 'price': 100.8, 'Age': 200},\n",
       " {'name': 'RED', 'NOW': 5000, 'price': 93.8, 'Age': 101}]"
      ]
     },
     "execution_count": 61,
     "metadata": {},
     "output_type": "execute_result"
    }
   ],
   "source": []
  },
  {
   "cell_type": "code",
   "execution_count": 63,
   "metadata": {},
   "outputs": [
    {
     "data": {
      "text/plain": [
       "[{'name': 'EWS', 'NOW': 2000, 'price': 100.8, 'Age': 200},\n",
       " {'name': 'PLE', 'NOW': 700, 'price': 50.3, 'Age': 46},\n",
       " {'name': 'PTE', 'NOW': 400, 'price': 30.8, 'Age': 110}]"
      ]
     },
     "execution_count": 63,
     "metadata": {},
     "output_type": "execute_result"
    }
   ],
   "source": []
  },
  {
   "cell_type": "code",
   "execution_count": 64,
   "metadata": {},
   "outputs": [
    {
     "data": {
      "text/plain": [
       "[{'name': 'URT', 'NOW': 750, 'price': 110.3, 'Age': 8},\n",
       " {'name': 'SCV', 'NOW': 1200, 'price': 77.3, 'Age': 9},\n",
       " {'name': 'STQ', 'NOW': 3000, 'price': 70.4, 'Age': 12}]"
      ]
     },
     "execution_count": 64,
     "metadata": {},
     "output_type": "execute_result"
    }
   ],
   "source": []
  },
  {
   "cell_type": "code",
   "execution_count": 65,
   "metadata": {},
   "outputs": [
    {
     "data": {
      "text/plain": [
       "[{'name': 'RED', 'NOW': 5000, 'price': 93.8, 'Age': 101},\n",
       " {'name': 'STQ', 'NOW': 3000, 'price': 70.4, 'Age': 12},\n",
       " {'name': 'EWS', 'NOW': 2000, 'price': 100.8, 'Age': 200}]"
      ]
     },
     "execution_count": 65,
     "metadata": {},
     "output_type": "execute_result"
    }
   ],
   "source": []
  },
  {
   "cell_type": "markdown",
   "metadata": {},
   "source": [
    "---"
   ]
  },
  {
   "cell_type": "markdown",
   "metadata": {},
   "source": [
    "<h2><center> defaultdict تولید دیکشنری  زیر با استفاده از </center></h2>"
   ]
  },
  {
   "cell_type": "code",
   "execution_count": 76,
   "metadata": {},
   "outputs": [
    {
     "data": {
      "text/plain": [
       "defaultdict(list,\n",
       "            {'x': [(1, 4, 7, 's')],\n",
       "             's': [(45, 78.6, 'abcd')],\n",
       "             '5': [(4, '4', 4.4, '44.4')],\n",
       "             5: [(7, 8, '5', 5)]})"
      ]
     },
     "execution_count": 76,
     "metadata": {},
     "output_type": "execute_result"
    }
   ],
   "source": []
  },
  {
   "cell_type": "markdown",
   "metadata": {},
   "source": [
    "---"
   ]
  },
  {
   "cell_type": "markdown",
   "metadata": {},
   "source": [
    "<h2><center>خروجی های زیر را با انجام محاسبات روی دیکشنری تولید کنید </center></h2>"
   ]
  },
  {
   "cell_type": "code",
   "execution_count": 78,
   "metadata": {},
   "outputs": [],
   "source": [
    "d = {\n",
    "    'SRD': 400,\n",
    "    'HFV': 125,\n",
    "    'ABV': 760,\n",
    "    'QBC': 800,\n",
    "    'AAP': 150\n",
    "}"
   ]
  },
  {
   "cell_type": "code",
   "execution_count": 79,
   "metadata": {},
   "outputs": [
    {
     "data": {
      "text/plain": [
       "'AAP'"
      ]
     },
     "execution_count": 79,
     "metadata": {},
     "output_type": "execute_result"
    }
   ],
   "source": []
  },
  {
   "cell_type": "code",
   "execution_count": 80,
   "metadata": {},
   "outputs": [
    {
     "data": {
      "text/plain": [
       "'SRD'"
      ]
     },
     "execution_count": 80,
     "metadata": {},
     "output_type": "execute_result"
    }
   ],
   "source": []
  },
  {
   "cell_type": "code",
   "execution_count": 81,
   "metadata": {},
   "outputs": [
    {
     "data": {
      "text/plain": [
       "125"
      ]
     },
     "execution_count": 81,
     "metadata": {},
     "output_type": "execute_result"
    }
   ],
   "source": []
  },
  {
   "cell_type": "code",
   "execution_count": 83,
   "metadata": {},
   "outputs": [
    {
     "name": "stdout",
     "output_type": "stream",
     "text": [
      "(800, 'QBC')\n"
     ]
    }
   ],
   "source": []
  },
  {
   "cell_type": "code",
   "execution_count": 84,
   "metadata": {},
   "outputs": [
    {
     "data": {
      "text/plain": [
       "[(125, 'HFV'), (150, 'AAP'), (400, 'SRD'), (760, 'ABV'), (800, 'QBC')]"
      ]
     },
     "execution_count": 84,
     "metadata": {},
     "output_type": "execute_result"
    }
   ],
   "source": []
  },
  {
   "cell_type": "code",
   "execution_count": 85,
   "metadata": {},
   "outputs": [
    {
     "data": {
      "text/plain": [
       "[('AAP', 150), ('ABV', 760), ('HFV', 125), ('QBC', 800), ('SRD', 400)]"
      ]
     },
     "execution_count": 85,
     "metadata": {},
     "output_type": "execute_result"
    }
   ],
   "source": []
  },
  {
   "cell_type": "markdown",
   "metadata": {},
   "source": [
    "---"
   ]
  },
  {
   "cell_type": "markdown",
   "metadata": {},
   "source": [
    "<h2><center> در دیکشنری های زیر با استفاده از روش یافتن اشتراکات، خروجی ها را تولید کنید</center></h2>"
   ]
  },
  {
   "cell_type": "code",
   "execution_count": 86,
   "metadata": {},
   "outputs": [],
   "source": [
    "d1 = {\n",
    "    '1': 10,\n",
    "    '2': 20,\n",
    "    '3': 30,\n",
    "    '4': 40\n",
    "}\n",
    "\n",
    "d2 = {\n",
    "    '1': 10,\n",
    "    '2': 25,\n",
    "    '5': 50,\n",
    "    '6': 60\n",
    "}"
   ]
  },
  {
   "cell_type": "code",
   "execution_count": 87,
   "metadata": {},
   "outputs": [
    {
     "data": {
      "text/plain": [
       "{'1', '2'}"
      ]
     },
     "execution_count": 87,
     "metadata": {},
     "output_type": "execute_result"
    }
   ],
   "source": []
  },
  {
   "cell_type": "code",
   "execution_count": 88,
   "metadata": {},
   "outputs": [
    {
     "data": {
      "text/plain": [
       "{'5', '6'}"
      ]
     },
     "execution_count": 88,
     "metadata": {},
     "output_type": "execute_result"
    }
   ],
   "source": []
  },
  {
   "cell_type": "code",
   "execution_count": 89,
   "metadata": {},
   "outputs": [
    {
     "data": {
      "text/plain": [
       "{('2', 20), ('3', 30), ('4', 40)}"
      ]
     },
     "execution_count": 89,
     "metadata": {},
     "output_type": "execute_result"
    }
   ],
   "source": []
  },
  {
   "cell_type": "markdown",
   "metadata": {},
   "source": [
    "---"
   ]
  },
  {
   "cell_type": "markdown",
   "metadata": {},
   "source": [
    "<h2><center>ستون اول فایل اکسل را خوانده و تکرار ها را با نگه داشتن ترتیب، حذف کنید </center></h2>"
   ]
  },
  {
   "cell_type": "code",
   "execution_count": 11,
   "metadata": {},
   "outputs": [
    {
     "data": {
      "text/plain": [
       "[1.0, 5.0, 12.0, -12.0, 24.0, 71.0, 49.0, 73.0, 50.0]"
      ]
     },
     "execution_count": 11,
     "metadata": {},
     "output_type": "execute_result"
    }
   ],
   "source": []
  },
  {
   "cell_type": "markdown",
   "metadata": {},
   "source": [
    "---"
   ]
  },
  {
   "cell_type": "markdown",
   "metadata": {},
   "source": [
    "<h2><center>ستون دوم فایل اکسل را خوانده و آیتم های پر تکرار را مشخص کنید </center></h2>"
   ]
  },
  {
   "cell_type": "code",
   "execution_count": 30,
   "metadata": {},
   "outputs": [
    {
     "data": {
      "text/plain": [
       "Counter({'python': 8, 'java': 3, 'php': 1, 'c++': 3, 'c': 2, 'R': 3})"
      ]
     },
     "execution_count": 30,
     "metadata": {},
     "output_type": "execute_result"
    }
   ],
   "source": []
  },
  {
   "cell_type": "markdown",
   "metadata": {},
   "source": [
    "---"
   ]
  },
  {
   "cell_type": "markdown",
   "metadata": {},
   "source": [
    "<h2><center>با خصوصیات مشخص شده بسازید و خروجی ها را تولید کنید Car کلاسی بنام </center></h2>"
   ]
  },
  {
   "cell_type": "code",
   "execution_count": 34,
   "metadata": {},
   "outputs": [
    {
     "data": {
      "text/plain": [
       "[Car(2000, 100),\n",
       " Car(2018, 420),\n",
       " Car(2020, 1000),\n",
       " Car(2019, 220),\n",
       " Car(2014, 170),\n",
       " Car(1998, 120),\n",
       " Car(2017, 700)]"
      ]
     },
     "execution_count": 34,
     "metadata": {},
     "output_type": "execute_result"
    }
   ],
   "source": []
  },
  {
   "cell_type": "code",
   "execution_count": 39,
   "metadata": {},
   "outputs": [
    {
     "data": {
      "text/plain": [
       "[Car(1998, 120),\n",
       " Car(2000, 100),\n",
       " Car(2014, 170),\n",
       " Car(2017, 700),\n",
       " Car(2018, 420),\n",
       " Car(2019, 220),\n",
       " Car(2020, 1000)]"
      ]
     },
     "execution_count": 39,
     "metadata": {},
     "output_type": "execute_result"
    }
   ],
   "source": []
  },
  {
   "cell_type": "code",
   "execution_count": 40,
   "metadata": {},
   "outputs": [
    {
     "data": {
      "text/plain": [
       "[Car(2000, 100),\n",
       " Car(1998, 120),\n",
       " Car(2014, 170),\n",
       " Car(2019, 220),\n",
       " Car(2018, 420),\n",
       " Car(2017, 700),\n",
       " Car(2020, 1000)]"
      ]
     },
     "execution_count": 40,
     "metadata": {},
     "output_type": "execute_result"
    }
   ],
   "source": []
  },
  {
   "cell_type": "code",
   "execution_count": 42,
   "metadata": {},
   "outputs": [
    {
     "data": {
      "text/plain": [
       "Car(2000, 100)"
      ]
     },
     "execution_count": 42,
     "metadata": {},
     "output_type": "execute_result"
    }
   ],
   "source": []
  },
  {
   "cell_type": "markdown",
   "metadata": {},
   "source": [
    "---"
   ]
  },
  {
   "cell_type": "markdown",
   "metadata": {},
   "source": [
    "<h2><center> با استفاده از داده ی زیر، گروه بندی های لازم را انجام داده و خروجی های مورد نیاز را تولید کنید</center></h2>"
   ]
  },
  {
   "cell_type": "code",
   "execution_count": 33,
   "metadata": {},
   "outputs": [],
   "source": [
    "car = [\n",
    "    {'co': 'W', 'price':100, 'year': 2000},\n",
    "    {'co': 'B', 'price':150, 'year': 2012},\n",
    "    {'co': 'K', 'price':160, 'year': 2020},\n",
    "    {'co': 'W', 'price':410, 'year': 2012},\n",
    "    {'co': 'K', 'price':280, 'year': 2000},\n",
    "    {'co': 'B', 'price':190, 'year': 2020},\n",
    "    {'co': 'K', 'price':340, 'year': 2012},\n",
    "    {'co': 'K', 'price':780, 'year': 2000}\n",
    "    \n",
    "]"
   ]
  },
  {
   "cell_type": "code",
   "execution_count": 25,
   "metadata": {},
   "outputs": [
    {
     "name": "stdout",
     "output_type": "stream",
     "text": [
      "B\n",
      "     {'co': 'B', 'price': 150, 'year': 2012}\n",
      "     {'co': 'B', 'price': 190, 'year': 2020}\n",
      "K\n",
      "     {'co': 'K', 'price': 160, 'year': 2020}\n",
      "     {'co': 'K', 'price': 280, 'year': 2000}\n",
      "     {'co': 'K', 'price': 340, 'year': 2012}\n",
      "     {'co': 'K', 'price': 780, 'year': 2000}\n",
      "W\n",
      "     {'co': 'W', 'price': 100, 'year': 2000}\n",
      "     {'co': 'W', 'price': 410, 'year': 2012}\n"
     ]
    }
   ],
   "source": []
  },
  {
   "cell_type": "code",
   "execution_count": 37,
   "metadata": {},
   "outputs": [
    {
     "data": {
      "text/plain": [
       "defaultdict(list,\n",
       "            {2000: [{'co': 'W', 'price': 100, 'year': 2000},\n",
       "              {'co': 'K', 'price': 280, 'year': 2000},\n",
       "              {'co': 'K', 'price': 780, 'year': 2000}],\n",
       "             2012: [{'co': 'B', 'price': 150, 'year': 2012},\n",
       "              {'co': 'W', 'price': 410, 'year': 2012},\n",
       "              {'co': 'K', 'price': 340, 'year': 2012}],\n",
       "             2020: [{'co': 'K', 'price': 160, 'year': 2020},\n",
       "              {'co': 'B', 'price': 190, 'year': 2020}]})"
      ]
     },
     "execution_count": 37,
     "metadata": {},
     "output_type": "execute_result"
    }
   ],
   "source": []
  },
  {
   "cell_type": "markdown",
   "metadata": {},
   "source": [
    "---"
   ]
  },
  {
   "cell_type": "markdown",
   "metadata": {},
   "source": [
    "<h2><center>داده ی زیر را به ترتیبی فیلتر کنید که اگر مقدار هر المان منفی بود، آن را در دو ضرب کند و اگر مثبت بود منفی آن را نشان دهد</center></h2>"
   ]
  },
  {
   "cell_type": "code",
   "execution_count": 46,
   "metadata": {},
   "outputs": [],
   "source": [
    "n = [1, 25, -781, 253, -99, -89, 77, 1234,\n",
    "     5412, 96, -45, -78, 78, -78, 125, 12]"
   ]
  },
  {
   "cell_type": "code",
   "execution_count": 72,
   "metadata": {},
   "outputs": [
    {
     "data": {
      "text/plain": [
       "[-1,\n",
       " -25,\n",
       " -1562,\n",
       " -253,\n",
       " -198,\n",
       " -178,\n",
       " -77,\n",
       " -1234,\n",
       " -5412,\n",
       " -96,\n",
       " -90,\n",
       " -156,\n",
       " -78,\n",
       " -156,\n",
       " -125,\n",
       " -12]"
      ]
     },
     "execution_count": 72,
     "metadata": {},
     "output_type": "execute_result"
    }
   ],
   "source": []
  },
  {
   "cell_type": "markdown",
   "metadata": {},
   "source": [
    "---"
   ]
  },
  {
   "cell_type": "markdown",
   "metadata": {},
   "source": [
    "<h2><center>زیر مجموعه های خواسته شده را از دیکشنری زیر استخراج کنید</center></h2>"
   ]
  },
  {
   "cell_type": "code",
   "execution_count": 48,
   "metadata": {},
   "outputs": [],
   "source": [
    "d = {\n",
    "    'A': 120,\n",
    "    'B': 890,\n",
    "    'C': 14,\n",
    "    'D': 10,\n",
    "    'E': 78,\n",
    "    'F': 450\n",
    "}"
   ]
  },
  {
   "cell_type": "code",
   "execution_count": 51,
   "metadata": {},
   "outputs": [
    {
     "data": {
      "text/plain": [
       "{'A': 120, 'B': 890, 'F': 450}"
      ]
     },
     "execution_count": 51,
     "metadata": {},
     "output_type": "execute_result"
    }
   ],
   "source": []
  },
  {
   "cell_type": "code",
   "execution_count": 54,
   "metadata": {},
   "outputs": [
    {
     "data": {
      "text/plain": [
       "{'A': 120, 'D': 10, 'E': 78}"
      ]
     },
     "execution_count": 54,
     "metadata": {},
     "output_type": "execute_result"
    }
   ],
   "source": []
  },
  {
   "cell_type": "markdown",
   "metadata": {},
   "source": [
    "---"
   ]
  },
  {
   "cell_type": "markdown",
   "metadata": {},
   "source": [
    "<h2><center>مربع مقادیر ستون اول فایل اکسل را همانند خروجی نشان داده شده تولید کنید</center></h2>"
   ]
  },
  {
   "cell_type": "code",
   "execution_count": 62,
   "metadata": {},
   "outputs": [
    {
     "data": {
      "text/plain": [
       "[1.0,\n",
       " 25.0,\n",
       " 144.0,\n",
       " 144.0,\n",
       " 144.0,\n",
       " 25.0,\n",
       " 576.0,\n",
       " 5041.0,\n",
       " 2401.0,\n",
       " 144.0,\n",
       " 1.0,\n",
       " 25.0,\n",
       " 5329.0,\n",
       " 2500.0]"
      ]
     },
     "execution_count": 62,
     "metadata": {},
     "output_type": "execute_result"
    }
   ],
   "source": []
  },
  {
   "cell_type": "markdown",
   "metadata": {},
   "source": [
    "---"
   ]
  },
  {
   "cell_type": "markdown",
   "metadata": {},
   "source": [
    "<h2><center>دیکشنری های زیر را ادغام کرده و خروجی های خواسته شده را تولید نمایید</center></h2>"
   ]
  },
  {
   "cell_type": "code",
   "execution_count": 63,
   "metadata": {},
   "outputs": [],
   "source": [
    "d1 = {'A': 100, 'D': 200}\n",
    "d2 = {'B': 400, 'D': 700}\n",
    "d3 = {'B': 500, 'C': 600}"
   ]
  },
  {
   "cell_type": "code",
   "execution_count": 66,
   "metadata": {},
   "outputs": [
    {
     "data": {
      "text/plain": [
       "ChainMap({'A': 100, 'D': 200}, {'B': 400, 'D': 700}, {'B': 500, 'C': 600})"
      ]
     },
     "execution_count": 66,
     "metadata": {},
     "output_type": "execute_result"
    }
   ],
   "source": []
  },
  {
   "cell_type": "code",
   "execution_count": 67,
   "metadata": {},
   "outputs": [
    {
     "data": {
      "text/plain": [
       "400"
      ]
     },
     "execution_count": 67,
     "metadata": {},
     "output_type": "execute_result"
    }
   ],
   "source": []
  },
  {
   "cell_type": "code",
   "execution_count": 68,
   "metadata": {},
   "outputs": [
    {
     "data": {
      "text/plain": [
       "600"
      ]
     },
     "execution_count": 68,
     "metadata": {},
     "output_type": "execute_result"
    }
   ],
   "source": []
  },
  {
   "cell_type": "code",
   "execution_count": 70,
   "metadata": {},
   "outputs": [
    {
     "data": {
      "text/plain": [
       "ChainMap({'A': 100, 'D': 200, 'H': 1000}, {'B': 400, 'D': 700}, {'B': 500, 'C': 600})"
      ]
     },
     "execution_count": 70,
     "metadata": {},
     "output_type": "execute_result"
    }
   ],
   "source": []
  }
 ],
 "metadata": {
  "kernelspec": {
   "display_name": "Python 3",
   "language": "python",
   "name": "python3"
  },
  "language_info": {
   "codemirror_mode": {
    "name": "ipython",
    "version": 3
   },
   "file_extension": ".py",
   "mimetype": "text/x-python",
   "name": "python",
   "nbconvert_exporter": "python",
   "pygments_lexer": "ipython3",
   "version": "3.7.6"
  }
 },
 "nbformat": 4,
 "nbformat_minor": 4
}
